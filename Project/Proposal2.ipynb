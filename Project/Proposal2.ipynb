{
 "cells": [
  {
   "cell_type": "markdown",
   "source": [
    "# Project Proposal Update\n",
    "\n",
    "## What It Will Do\n",
    "\n",
    "My project will allow me to communicate with an AI version of myself. When I message the AI model which learned from my\n",
    "facebook data over the past 5 years, it will learn to speak the two languages that I know: English and Spanish. When \n",
    "someone messages it in one of those two languages, it will know how to respond in Spanish and as grammatically incorrect \n",
    "as my Spanish would be. One day when I have grand-kids and they have grand-kids, they'll be able to talk to their great grandfather\n",
    "from his youth with this application. \n",
    "\n",
    "## How to prepare the data and how you can do it yourself\n",
    "\n",
    "To make this work, it requires a large amount of data. This project uses over 16gb of message data in JSON to train its \n",
    "models. I started by downloading JUST my message data in low-quality JSON format. This displays every group-chat, and old chat\n",
    "in my inbox history. Once downloaded, I unzipped the file and moved just the inbox directory into the same directory\n",
    "containing the project code. There I had the parser.py grab all the data it could from my messages in the following format: \n",
    "\n",
    "x = { person = \"\", their_message = \"\", my_response = \"\" }. \n",
    "\n",
    "Once I parsed a list of these objects in python, I created a dictory with their_message[my_response] for easy training. \n",
    "\n",
    "\n",
    "\n",
    "## How I plan on implimenting the Seq2Seq\n",
    "\n",
    "I will implement the Seq2Seq portion of this project next. I will train it to encode all of the messages from myself and the\n",
    "people that sent me things over the years. It will encode them, tokenize the words. Once they're tokenized, they'll be placed \n",
    "in a seq2seq dataset and represented as id numbers to that dataset for faster processing. As it trains and even when it is\n",
    "finished, every word that is outputted will be a result of previously outputted words and it will affect the words that \n",
    "will come after it, because this is building a model built on context. Once the data is prepared, I'll train it until its\n",
    " ready for use. Once its trained and the hyper-parameters are adjusted for optimal results I will save the model and use\n",
    " it to offer anyone the ability to chat with myself. \n",
    "\n",
    " \n",
    "## If I still have time: \n",
    "\n",
    "If I still have time after working on this during the busiest time of the year, I'll see if I can implement LSTM or \n",
    "Long short term memory which will give it the ability to remember past things that have been said. This would be a good\n",
    "feature since it would give the AI the ability to keep conversations progressing naturally, making it feel less like a robot. "
   ],
   "metadata": {
    "collapsed": false,
    "pycharm": {
     "name": "#%% md\n"
    }
   }
  }
 ],
 "metadata": {
  "kernelspec": {
   "display_name": "Python 3",
   "language": "python",
   "name": "python3"
  },
  "language_info": {
   "codemirror_mode": {
    "name": "ipython",
    "version": 2
   },
   "file_extension": ".py",
   "mimetype": "text/x-python",
   "name": "python",
   "nbconvert_exporter": "python",
   "pygments_lexer": "ipython2",
   "version": "2.7.6"
  },
  "pycharm": {
   "stem_cell": {
    "cell_type": "raw",
    "source": [
     "gives a brief overview of the vision of the project, \n",
     "\n",
     "lists the various code modules and their purpose,\n",
     " \n",
     "explains how to run the code, and references external sources for any required datasets.\n",
     "\n"
    ],
    "metadata": {
     "collapsed": false
    }
   }
  }
 },
 "nbformat": 4,
 "nbformat_minor": 0
}