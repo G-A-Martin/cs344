{
 "cells": [
  {
   "cell_type": "markdown",
   "metadata": {
    "collapsed": true,
    "pycharm": {
     "name": "#%% md\n"
    }
   },
   "source": [
    "Gavin Martin\n",
    "CS344\n",
    "Proposal\n",
    "\n",
    "\n",
    "      For my project, I want to create an RNN deep learning chatbot that analyzes all of my Facebook conversations and learns to talk just like me. When other people ask it questions, I want it to respond to them in the same way that I would, given my 10 years of chat history on Facebook. I want it to also answer questions in a coherent way. When asked a question, I would like it to answer with relevant information. Preferably I would want it to continue to converse with the person talking to it in a coherent way. \n",
    "\tI plan on using an encoding and decoding RNN that I will have to research into a bit before I can talk about it on a deeper level. I will be looking into some Seq2Seq model tutorials that handle conversating with RNNs for a back-end. \n",
    "\tAs far as my data goes, I plan on using all of my Facebook messages. Right now, they are downloaded in a 16gb file that contains all messages. I�ll have to make a script to parse them into easier read items, because even though they�re json, they�re not formatted super well for a deep learning tool to use. That will likely prove to be the hardest part of this project. Once I have the chat messages parsed into a good format, I�ll work on getting it functional, and then improving it through tweaks to the hyperparameters. \n",
    "\n"
   ]
  }
 ],
 "metadata": {
  "kernelspec": {
   "display_name": "Python 3",
   "language": "python",
   "name": "python3"
  },
  "language_info": {
   "codemirror_mode": {
    "name": "ipython",
    "version": 2
   },
   "file_extension": ".py",
   "mimetype": "text/x-python",
   "name": "python",
   "nbconvert_exporter": "python",
   "pygments_lexer": "ipython2",
   "version": "2.7.6"
  },
  "pycharm": {
   "stem_cell": {
    "cell_type": "raw",
    "source": [],
    "metadata": {
     "collapsed": false
    }
   }
  }
 },
 "nbformat": 4,
 "nbformat_minor": 0
}