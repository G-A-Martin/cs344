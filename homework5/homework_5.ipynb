{
 "cells": [
  {
   "cell_type": "markdown",
   "source": [],
   "metadata": {
    "collapsed": false,
    "pycharm": {
     "name": "#%% md\n"
    }
   }
  },
  {
   "cell_type": "markdown",
   "source": [
    "# Excercise 7.2\n",
    "\n",
    "7.2 (Adapted from Barwise and Etchemendy (1993).) \n",
    "\n",
    "Given the following, can you prove that the unicorn is: \n",
    "\n",
    "    - mythical?\n",
    "    - magical? \n",
    "    - horned?\n",
    "\n",
    "If the unicorn is mythical, then it is immortal, but if it is not mythical, then it is a \n",
    "mortal mammal. If the unicorn is either immortal or a mammal, then it is horned. The unicorn is magical if it is horned.\n",
    "\n",
    "\n",
    "\n",
    "It can be proven that the unicorn is horned, and magical, but it can't be proven that its mythical which is why\n",
    "if written in prolog, you would have to provide that as a fact instead of finding it intuitively. \n",
    "\n",
    "Prolog can solve this easily because it uses recursive logic that can be traced back and forth with variables and \n",
    "conditions. It is made for problems like these. \n",
    "\n",
    "mythical -> immortal -> horned -> magical, so if the unicorn is mythical, it will be magical and horned. \n",
    "\n",
    "not_mythical -> mortal mammal -> horned -> magical, so even if its non-mythical, it will still be magical with horns.\n",
    "\n",
    "It could be written in prolog. Here is an example: \n",
    "\n",
    "immortal(X) :- mythical(X).\n",
    "\n",
    "mammal(X) :- not_mythical(X).\n",
    "\n",
    "mortal(X) :- mammal(X).\n",
    "\n",
    "horned(X) :- immortal(X), mammal(X).\n",
    "\n",
    "magical(X) :- horned(X).\n",
    "\n",
    "\n",
    "#Excercise 2.4\n",
    "\n",
    "Exercise  2.4 Here are six Italian words:\n",
    "\n",
    "astante , astoria , baratto , cobalto , pistola , statale .\n",
    "\n",
    "They are to be arranged, crossword puzzle fashion, in the following grid:\n",
    "\n",
    "The following knowledge base represents a lexicon containing these words:\n",
    "\n",
    "   word(astante,  a,s,t,a,n,t,e).\n",
    "   word(astoria,  a,s,t,o,r,i,a).\n",
    "   word(baratto,  b,a,r,a,t,t,o).\n",
    "   word(cobalto,  c,o,b,a,l,t,o).\n",
    "   word(pistola,  p,i,s,t,o,l,a).\n",
    "   word(statale,  s,t,a,t,a,l,e).\n",
    "   \n",
    "Write a predicate crossword/6 that tells us how to fill in the grid. The first three arguments should be the vertical \n",
    "words from left to right, and the last three arguments the horizontal words from top to bottom.\n",
    "\n",
    "\n",
    "word(astante,  a,s,t,a,n,t,e).\n",
    "word(astoria,  a,s,t,o,r,i,a).\n",
    "word(baratto,  b,a,r,a,t,t,o).\n",
    "word(cobalto,  c,o,b,a,l,t,o).\n",
    "word(pistola,  p,i,s,t,o,l,a).\n",
    "word(statale,  s,t,a,t,a,l,e).\n",
    "\n",
    "crossword(V1, V2, V3, H1, H2, H3) :-\n",
    "    word(V1, V11, V12, V13, V14, V15, V16, V17),\n",
    "    word(V2, V21, V22, V23, V24, V25, V26, V27),\n",
    "    word(V3, V31, V32, V33, V34, V35, V36, V37),\n",
    "    word(H1, H11, V12, H13, V22, H15, V32, H17),\n",
    "    word(H2, H21, V14, H23, V24, H25, V34, H27),\n",
    "    word(H3, H31, V16, H33, V26, H35, V36, H37).\n",
    "\n",
    "% Modeling this after the crossword with verticle character items in the horizontal words forces it to choose words\n",
    "that will match up\n"
   ],
   "metadata": {
    "collapsed": false
   }
  }
 ],
 "metadata": {
  "kernelspec": {
   "display_name": "Python 3",
   "language": "python",
   "name": "python3"
  },
  "language_info": {
   "codemirror_mode": {
    "name": "ipython",
    "version": 2
   },
   "file_extension": ".py",
   "mimetype": "text/x-python",
   "name": "python",
   "nbconvert_exporter": "python",
   "pygments_lexer": "ipython2",
   "version": "2.7.6"
  },
  "pycharm": {
   "stem_cell": {
    "cell_type": "raw",
    "source": [],
    "metadata": {
     "collapsed": false
    }
   }
  }
 },
 "nbformat": 4,
 "nbformat_minor": 0
}